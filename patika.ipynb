{
 "cells": [
  {
   "cell_type": "code",
   "execution_count": 1,
   "id": "fa183b9a",
   "metadata": {},
   "outputs": [],
   "source": [
    "from operator import itemgetter\n",
    "\n",
    "\n",
    "\n",
    "def person_lister(f):\n",
    "    def inner(*people):\n",
    "       \n",
    "        people = list(people)\n",
    "        sortinfo =  sorted(people, key=itemgetter(\"age\"), reverse=False)\n",
    "       \n",
    "        for x in sortinfo:\n",
    "            x = list(x.values())\n",
    "            \n",
    "            if x[3]=='M':\n",
    "                print('Mr.'+ x[0] +' '+x[1])\n",
    "            elif x[3]=='F':\n",
    "                print('Ms.'+ x[0] +' '+x[1])\n",
    "      \n",
    "    return inner\n",
    "\n",
    "\n"
   ]
  },
  {
   "cell_type": "code",
   "execution_count": 2,
   "id": "91dbbf68",
   "metadata": {},
   "outputs": [],
   "source": [
    "f=person_lister(3)"
   ]
  },
  {
   "cell_type": "code",
   "execution_count": 3,
   "id": "810b7fe2",
   "metadata": {},
   "outputs": [
    {
     "name": "stdout",
     "output_type": "stream",
     "text": [
      "Mr.Mike Thomson\n",
      "Ms.Andria  Bustle\n",
      "Mr.Robert  Bustle\n"
     ]
    }
   ],
   "source": [
    "f(\n",
    "{\"first_name\" :\"Mike\"   ,\"last_name\":\"Thomson\" , \"age\" : 20 , \"sex\": \"M\"},\n",
    "{\"first_name\" :\"Robert\" ,\"last_name\":\" Bustle\" , \"age\" : 32 , \"sex\": \"M\"},\n",
    "{\"first_name\" :\"Andria\" ,\"last_name\":\" Bustle\" , \"age\" : 30 , \"sex\": \"F\"},\n",
    ")"
   ]
  },
  {
   "cell_type": "code",
   "execution_count": null,
   "id": "29c1e8f0",
   "metadata": {},
   "outputs": [],
   "source": []
  }
 ],
 "metadata": {
  "kernelspec": {
   "display_name": "Python 3 (ipykernel)",
   "language": "python",
   "name": "python3"
  },
  "language_info": {
   "codemirror_mode": {
    "name": "ipython",
    "version": 3
   },
   "file_extension": ".py",
   "mimetype": "text/x-python",
   "name": "python",
   "nbconvert_exporter": "python",
   "pygments_lexer": "ipython3",
   "version": "3.9.7"
  }
 },
 "nbformat": 4,
 "nbformat_minor": 5
}
