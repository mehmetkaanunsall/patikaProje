{
 "cells": [
  {
   "cell_type": "code",
   "execution_count": 1,
   "id": "c5ef85ec",
   "metadata": {},
   "outputs": [],
   "source": [
    "from operator import itemgetter\n",
    "\n",
    "def person_lister(f):\n",
    "    def inner(*people):\n",
    "        sortinfo =  sorted(people,key = itemgetter('age'), reverse=False)\n",
    "        for x in sortinfo:\n",
    "            if x['sex']=='M':\n",
    "                print('Mr.'+ x['first name'] +' '+x['last name'])\n",
    "            elif x['sex']=='F':\n",
    "                print('Ms.'+ x['first name'] +' '+x['last name'])\n",
    "    return inner\n",
    "\n",
    "\n",
    "\n",
    "            \n",
    "       \n",
    "   \n"
   ]
  },
  {
   "cell_type": "code",
   "execution_count": 2,
   "id": "0398962a",
   "metadata": {},
   "outputs": [],
   "source": [
    "f=person_lister(5)"
   ]
  },
  {
   "cell_type": "code",
   "execution_count": 3,
   "id": "680063e9",
   "metadata": {},
   "outputs": [
    {
     "name": "stdout",
     "output_type": "stream",
     "text": [
      "Mr.Kaan  Unsal\n",
      "Mr.Mike Thomson\n",
      "Mr.Robert  Bustle\n",
      "Ms.Andria  Bustle\n",
      "Ms.Eda  Demir\n"
     ]
    }
   ],
   "source": [
    "\n",
    "f(\n",
    "{\"first name\" :\"Mike\"   ,\"last name\":\"Thomson\" , \"age\" : 20 , \"sex\": \"M\"},\n",
    "{\"first name\" :\"Robert\" ,\"last name\":\" Bustle\" , \"age\" : 29 , \"sex\": \"M\"},\n",
    "{\"first name\" :\"Andria\" ,\"last name\":\" Bustle\" , \"age\" : 30 , \"sex\": \"F\"},\n",
    "{\"first name\" :\"Kaan\"   ,\"last name\":\" Unsal\"  , \"age\" : 18 , \"sex\": \"M\"},\n",
    "{\"first name\" :\"Eda\"    ,\"last name\":\" Demir\"  , \"age\" : 45 , \"sex\": \"F\"})"
   ]
  },
  {
   "cell_type": "code",
   "execution_count": null,
   "id": "8a36d2ec",
   "metadata": {},
   "outputs": [],
   "source": []
  }
 ],
 "metadata": {
  "kernelspec": {
   "display_name": "Python 3 (ipykernel)",
   "language": "python",
   "name": "python3"
  },
  "language_info": {
   "codemirror_mode": {
    "name": "ipython",
    "version": 3
   },
   "file_extension": ".py",
   "mimetype": "text/x-python",
   "name": "python",
   "nbconvert_exporter": "python",
   "pygments_lexer": "ipython3",
   "version": "3.9.7"
  }
 },
 "nbformat": 4,
 "nbformat_minor": 5
}
